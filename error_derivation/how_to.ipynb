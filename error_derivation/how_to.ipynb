{
 "cells": [
  {
   "cell_type": "markdown",
   "id": "10a3e488-4f75-48ea-b66c-508ac0f4cc86",
   "metadata": {},
   "source": [
    "## You can use the uncertainties module to do errors for you. This is revolutionary."
   ]
  },
  {
   "cell_type": "markdown",
   "id": "e472ff3f-c790-4966-8cb9-5333c7d7c67b",
   "metadata": {},
   "source": [
    "First you have to get the uncertainties module. "
   ]
  },
  {
   "cell_type": "markdown",
   "id": "3ab8b514-8bc4-4803-b724-51cb6c7a3742",
   "metadata": {},
   "source": [
    "Go here about it https://uncertainties.readthedocs.io/en/latest/index.html"
   ]
  },
  {
   "cell_type": "markdown",
   "id": "529c2a5c-25d2-400a-ad9b-384919bdfbfe",
   "metadata": {},
   "source": [
    "Or, if you're running Anaconda do this:\n",
    "- Open the Cmd.exe prompt from Anaconda\n",
    "- Run this code: conda install -c conda-forge uncertainties\n",
    "- Enter y when prompted"
   ]
  },
  {
   "cell_type": "markdown",
   "id": "4f0273a9-232f-4d1a-9e7e-fb597b140523",
   "metadata": {},
   "source": [
    "Now you need to import it"
   ]
  },
  {
   "cell_type": "code",
   "execution_count": 1,
   "id": "f39ea1a9-3bdf-4d2f-b194-f90d788a4fc1",
   "metadata": {},
   "outputs": [],
   "source": [
    "import uncertainties as un"
   ]
  },
  {
   "cell_type": "markdown",
   "id": "c3557f84-e0b6-4df7-a1b0-f9eefb44b415",
   "metadata": {},
   "source": [
    "Now import my little package:\n",
    "From here you can do that as follows (because this How To is stored in the same overarching folder as the errors module):"
   ]
  },
  {
   "cell_type": "code",
   "execution_count": 4,
   "id": "1964d2d7-350d-44a2-b3a6-1d24e659de8c",
   "metadata": {},
   "outputs": [],
   "source": [
    "from errors.error_propagation import parse_errors"
   ]
  },
  {
   "cell_type": "markdown",
   "id": "513cd74a-962e-4cf1-970b-07b4760e6fe1",
   "metadata": {},
   "source": [
    "In other cases you'll need to tell Python the full path to the error_propagation.py file."
   ]
  },
  {
   "cell_type": "markdown",
   "id": "f7564c36-1fa2-48f7-8f95-b32de782ec99",
   "metadata": {},
   "source": [
    "So the docs for this:"
   ]
  },
  {
   "cell_type": "code",
   "execution_count": 5,
   "id": "a5ec2de2-c0ee-41e7-a281-5f2b6dd369c4",
   "metadata": {},
   "outputs": [
    {
     "name": "stdout",
     "output_type": "stream",
     "text": [
      "\n",
      "    Turns input values into uncertainties.ufloats so that they can be used for error propagation\n",
      "    -------------\n",
      "    Args:\n",
      "    - **values: Dictionary of all symbols used in expression, their values and errors, eg.x = (10,2), y=(30,0.5)\n",
      "    -------------\n",
      "    Returns:\n",
      "    - value_tuple: tuple containing all input values with their uncertainties, eg. (10.0+/-2.0, 30.0+/-0.5) \n"
     ]
    }
   ],
   "source": [
    "print(parse_errors.__doc__)"
   ]
  },
  {
   "cell_type": "markdown",
   "id": "0fded501-9555-4fbd-87ec-d4dec1a4d43d",
   "metadata": {},
   "source": [
    "Let's have a go:"
   ]
  },
  {
   "cell_type": "code",
   "execution_count": 8,
   "id": "874b346a-a9c7-42c1-ade4-0daad63a5f13",
   "metadata": {},
   "outputs": [
    {
     "name": "stdout",
     "output_type": "stream",
     "text": [
      "(10.0+/-2.0, 30.0+/-0.5)\n"
     ]
    }
   ],
   "source": [
    "test=parse_errors(x=(10,2),y=(30,0.5))\n",
    "print(test)"
   ]
  },
  {
   "cell_type": "markdown",
   "id": "5bc31893-58d8-4456-b4b8-bb7b8f7c5a18",
   "metadata": {},
   "source": [
    "So we can see that the parse_errors function will take values and spit them out in a usable format for the uncertainties module."
   ]
  },
  {
   "cell_type": "markdown",
   "id": "5c459368-27b7-4032-923c-bf583b05d592",
   "metadata": {},
   "source": [
    "#### Okay Rachel, but why is this useful?"
   ]
  },
  {
   "cell_type": "markdown",
   "id": "c13b7cde-c7e0-4974-bec2-c043c32b9c14",
   "metadata": {},
   "source": [
    "So if we have a function defined, for our purposes likely an expression for some value from labs:"
   ]
  },
  {
   "cell_type": "code",
   "execution_count": 9,
   "id": "ee7609de-25ff-4576-840b-d7968b498bc7",
   "metadata": {},
   "outputs": [],
   "source": [
    "def specific_heat(m,c,dT):\n",
    "    return m*c*dT"
   ]
  },
  {
   "cell_type": "markdown",
   "id": "b068621e-7627-476a-b39d-caffbb182453",
   "metadata": {},
   "source": [
    "Here I'm using the formula for specific heat capacity, but it should work for basically anything, remember to use numpy.sin(x) or math.sin(x) etc. for more complex expressions."
   ]
  },
  {
   "cell_type": "markdown",
   "id": "27d541e3-85ea-4ec2-b21f-562d7ec695fd",
   "metadata": {},
   "source": [
    "We can then run parse_errors for all our values:"
   ]
  },
  {
   "cell_type": "code",
   "execution_count": 10,
   "id": "08704788-db08-4160-ba13-5ac5a55874ff",
   "metadata": {},
   "outputs": [
    {
     "data": {
      "text/plain": [
       "(100.0+/-1.5, 4200.0+/-200.0, 3.0+/-0.1)"
      ]
     },
     "execution_count": 10,
     "metadata": {},
     "output_type": "execute_result"
    }
   ],
   "source": [
    "parse_errors(m=(100,1.5),c=(4200,200),dT=((3,0.1)))"
   ]
  },
  {
   "cell_type": "markdown",
   "id": "dc063b9d-4cba-442a-ab52-06c1a42ee9e5",
   "metadata": {},
   "source": [
    "Same as before, but let's now unpack the parsed values to our values for the function:"
   ]
  },
  {
   "cell_type": "code",
   "execution_count": 11,
   "id": "152749ac-84c1-4166-b3ea-3c89d25f74a6",
   "metadata": {},
   "outputs": [
    {
     "name": "stdout",
     "output_type": "stream",
     "text": [
      "100.0+/-1.5 (4.20+/-0.20)e+03 3.00+/-0.10\n"
     ]
    }
   ],
   "source": [
    "m,c,dT=parse_errors(m=(100,1.5),c=(4200,200),dT=((3,0.1)))\n",
    "print(m,c,dT)"
   ]
  },
  {
   "cell_type": "markdown",
   "id": "a4a77112-2624-4248-bb5c-eb9a546a0a9f",
   "metadata": {},
   "source": [
    "Now let's actually do the error propagation:"
   ]
  },
  {
   "cell_type": "code",
   "execution_count": 12,
   "id": "05e7bb0e-e025-4ce0-83af-b4299519b621",
   "metadata": {},
   "outputs": [
    {
     "name": "stdout",
     "output_type": "stream",
     "text": [
      "(1.26+/-0.08)e+06\n"
     ]
    }
   ],
   "source": [
    "Q=specific_heat(m,c,dT)\n",
    "print(Q)"
   ]
  },
  {
   "cell_type": "markdown",
   "id": "ed2d38a4-de7f-4db4-b8f4-ecc88c0b00b1",
   "metadata": {},
   "source": [
    "And just like that you've got a value and an error, and the only bit you have to do yourself is define a function for the expression (eg. our specific_heat function here)."
   ]
  },
  {
   "cell_type": "markdown",
   "id": "527baa52-39d4-4725-95cb-3bf5fb937dc3",
   "metadata": {},
   "source": [
    "If I can be arsed I'll code something that spits out all the actual formulas too so you can put that in your lab books, but for now I'm too tired <3"
   ]
  },
  {
   "cell_type": "code",
   "execution_count": null,
   "id": "e270c78c-dd3a-4a08-9309-ef5fa4d852ce",
   "metadata": {},
   "outputs": [],
   "source": []
  }
 ],
 "metadata": {
  "kernelspec": {
   "display_name": "Python 3",
   "language": "python",
   "name": "python3"
  },
  "language_info": {
   "codemirror_mode": {
    "name": "ipython",
    "version": 3
   },
   "file_extension": ".py",
   "mimetype": "text/x-python",
   "name": "python",
   "nbconvert_exporter": "python",
   "pygments_lexer": "ipython3",
   "version": "3.8.8"
  }
 },
 "nbformat": 4,
 "nbformat_minor": 5
}
